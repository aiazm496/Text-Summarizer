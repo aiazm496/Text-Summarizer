{
 "cells": [
  {
   "cell_type": "code",
   "execution_count": 13,
   "metadata": {},
   "outputs": [],
   "source": [
    "import nltk\n",
    "from nltk.corpus import stopwords\n",
    "#from nltk.cluster.util import cosine_distance  #for similarity b/w sentences\n",
    "#import numpy as np\n",
    "#import networkx as nx  #for similarity graphs"
   ]
  },
  {
   "cell_type": "code",
   "execution_count": 14,
   "metadata": {},
   "outputs": [],
   "source": [
    "import os"
   ]
  },
  {
   "cell_type": "code",
   "execution_count": 42,
   "metadata": {},
   "outputs": [],
   "source": [
    "def read_feedback(file):\n",
    "    if os.path.exists(file):\n",
    "        file_name = os.path.abspath(file)\n",
    "        with open(file_name,'r',encoding='utf-8') as fob:\n",
    "            return fob.read().replace('\\n','')\n",
    "    else:\n",
    "        print(\"Please check file path!\")"
   ]
  },
  {
   "cell_type": "code",
   "execution_count": 16,
   "metadata": {},
   "outputs": [],
   "source": [
    "from gensim.summarization.summarizer import summarize"
   ]
  },
  {
   "cell_type": "code",
   "execution_count": 17,
   "metadata": {},
   "outputs": [],
   "source": [
    "from gensim.summarization import keywords"
   ]
  },
  {
   "cell_type": "code",
   "execution_count": 18,
   "metadata": {},
   "outputs": [],
   "source": [
    "from textblob import TextBlob"
   ]
  },
  {
   "cell_type": "code",
   "execution_count": 19,
   "metadata": {},
   "outputs": [
    {
     "name": "stdout",
     "output_type": "stream",
     "text": [
      "Please enter file path: C:\\Users\\test\\Desktop\\practice-ML\\Practice-ML\\editorial.txt\n"
     ]
    }
   ],
   "source": [
    "file_path = input(\"Please enter file path: \")\n",
    "file_reader = read_feedback(file_path)"
   ]
  },
  {
   "cell_type": "code",
   "execution_count": 20,
   "metadata": {},
   "outputs": [
    {
     "data": {
      "text/plain": [
       "'With the Supreme Court’s 2-1 judgment clearing the Central Vista project for New Delhi, the Narendra Modi government can now indelibly reshape the national capital’s visual landscape. Justices A.M. Khanwilkar and Dinesh Maheshwari found no infirmity in the approvals granted by the Central Vista Committee, Delhi Urban Art Commission, the Heritage Conservation Committee and other bodies, paving the way for a new Parliament building and other edifices of government to come up. Justice Sanjiv Khanna, while agreeing with the majority opinion on the call for bid, award and the decision of the Urban Commission, dissented on the key issue of public participation in the entire exercise, which vitiated the endorsement of land use change. Governments should naturally be free to plan policies and programmes on behalf of the people, with no prior restraint, but subject to judicial review to ensure accountability. Judged against this principle, the Centre is simply exercising its privilege to plan a new set of buildings to house its establishment and the federal legislature. While the final cost estimate is unclear, planned expenditures are in excess of ₹13,450 crore for, among other things, a new Central Secretariat, Vice-President’s enclave and Prime Minister’s residence, besides ₹971 crore for the new Parliament. With a national consensus, such a colossal plan might be a crowning achievement for the 75th year of Independence in 2022. What is germane to the question, however, is its appropriateness in a year of unprecedented disruption due to COVID-19. This is when an elected government must give its undivided attention to schemes for the common weal and not be tempted into extravagant indulgence.As Justice Khanna has pointed out, public consultation in a democracy requires citizens to be able to assess the project’s rationale, armed with information on the official reasoning, and with sufficient time at their disposal. The essence of their view should inform the final decision. Opportunities for public consultation, already incorporated into modern laws and also in the Delhi Development Act, in no way fetter the executive. It would be appropriate, therefore, for the Centre to attempt consensus-building on Central Vista, without showing undue anxiety and haste in taking up all planned structures together. The pandemic’s course points to uncertainty on restoration of economic health, and ameliorating the damage to large sectors of the economy, especially in services. In the run-up to 2022, the government will be tested on its ability to ensure good health for all citizens, revive normative education and provide stronger welfare. Prioritising Central Vista can prove to be a distraction from the task.'"
      ]
     },
     "execution_count": 20,
     "metadata": {},
     "output_type": "execute_result"
    }
   ],
   "source": [
    "file_reader"
   ]
  },
  {
   "cell_type": "code",
   "execution_count": 21,
   "metadata": {},
   "outputs": [],
   "source": [
    "file_blob = TextBlob(file_reader)"
   ]
  },
  {
   "cell_type": "code",
   "execution_count": 22,
   "metadata": {},
   "outputs": [],
   "source": [
    "def translator(blob):\n",
    "    if blob.detect_language()!='en':\n",
    "        return blob.translate(to='en')\n",
    "    else:\n",
    "        return blob\n",
    "            "
   ]
  },
  {
   "cell_type": "code",
   "execution_count": 23,
   "metadata": {},
   "outputs": [],
   "source": [
    "en_blob = translator(file_blob)"
   ]
  },
  {
   "cell_type": "code",
   "execution_count": 24,
   "metadata": {},
   "outputs": [
    {
     "data": {
      "text/plain": [
       "0.08537018537018537"
      ]
     },
     "execution_count": 24,
     "metadata": {},
     "output_type": "execute_result"
    }
   ],
   "source": [
    "en_blob.sentiment.polarity"
   ]
  },
  {
   "cell_type": "code",
   "execution_count": 25,
   "metadata": {},
   "outputs": [
    {
     "data": {
      "text/plain": [
       "0.427994227994228"
      ]
     },
     "execution_count": 25,
     "metadata": {},
     "output_type": "execute_result"
    }
   ],
   "source": [
    "en_blob.sentiment.subjectivity"
   ]
  },
  {
   "cell_type": "code",
   "execution_count": 26,
   "metadata": {},
   "outputs": [],
   "source": [
    "en_file = en_blob.string"
   ]
  },
  {
   "cell_type": "code",
   "execution_count": 27,
   "metadata": {},
   "outputs": [],
   "source": [
    "file_summary = summarize(en_file,ratio = 0.3)   #summary is 30% of the original text.\n",
    "#print(editorial_summary)"
   ]
  },
  {
   "cell_type": "code",
   "execution_count": 28,
   "metadata": {},
   "outputs": [],
   "source": [
    "#print(keywords(file_summary,lemmatize=True))"
   ]
  },
  {
   "cell_type": "code",
   "execution_count": 29,
   "metadata": {},
   "outputs": [],
   "source": [
    "import docx"
   ]
  },
  {
   "cell_type": "code",
   "execution_count": 30,
   "metadata": {},
   "outputs": [],
   "source": [
    "from docx import Document"
   ]
  },
  {
   "cell_type": "code",
   "execution_count": 31,
   "metadata": {},
   "outputs": [],
   "source": [
    "response = Document()"
   ]
  },
  {
   "cell_type": "code",
   "execution_count": 32,
   "metadata": {},
   "outputs": [
    {
     "data": {
      "text/plain": [
       "<docx.text.paragraph.Paragraph at 0x258ab7fc5e0>"
      ]
     },
     "execution_count": 32,
     "metadata": {},
     "output_type": "execute_result"
    }
   ],
   "source": [
    "response.add_heading('Summary', 0)"
   ]
  },
  {
   "cell_type": "code",
   "execution_count": 33,
   "metadata": {
    "scrolled": true
   },
   "outputs": [
    {
     "data": {
      "text/plain": [
       "<docx.text.paragraph.Paragraph at 0x258ab7e8c40>"
      ]
     },
     "execution_count": 33,
     "metadata": {},
     "output_type": "execute_result"
    }
   ],
   "source": [
    "response.add_paragraph(file_summary)"
   ]
  },
  {
   "cell_type": "code",
   "execution_count": 34,
   "metadata": {},
   "outputs": [],
   "source": [
    "#%pwd"
   ]
  },
  {
   "cell_type": "code",
   "execution_count": 35,
   "metadata": {},
   "outputs": [
    {
     "name": "stdout",
     "output_type": "stream",
     "text": [
      "Please enter location where you want to save the file: C:\\Users\\test\\Desktop\\practice-ML\\Practice-ML\n"
     ]
    }
   ],
   "source": [
    "path_to_save = input(\"Please enter location where you want to save the file: \")"
   ]
  },
  {
   "cell_type": "code",
   "execution_count": 36,
   "metadata": {},
   "outputs": [],
   "source": [
    "os.chdir(path_to_save)  "
   ]
  },
  {
   "cell_type": "code",
   "execution_count": 37,
   "metadata": {},
   "outputs": [
    {
     "name": "stdout",
     "output_type": "stream",
     "text": [
      "Please enter summary file nameeditorial_summary\n"
     ]
    }
   ],
   "source": [
    "name_of_summary_file = input(\"Please enter summary file name\")"
   ]
  },
  {
   "cell_type": "code",
   "execution_count": 38,
   "metadata": {},
   "outputs": [],
   "source": [
    "response.save('{}.docx'.format(name_of_summary_file))"
   ]
  },
  {
   "cell_type": "code",
   "execution_count": null,
   "metadata": {},
   "outputs": [],
   "source": []
  }
 ],
 "metadata": {
  "kernelspec": {
   "display_name": "Python 3",
   "language": "python",
   "name": "python3"
  },
  "language_info": {
   "codemirror_mode": {
    "name": "ipython",
    "version": 3
   },
   "file_extension": ".py",
   "mimetype": "text/x-python",
   "name": "python",
   "nbconvert_exporter": "python",
   "pygments_lexer": "ipython3",
   "version": "3.8.3"
  }
 },
 "nbformat": 4,
 "nbformat_minor": 4
}
